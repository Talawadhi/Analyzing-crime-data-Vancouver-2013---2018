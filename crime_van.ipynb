{
 "cells": [
  {
   "cell_type": "markdown",
   "metadata": {
    "_uuid": "d0b748af29c3f6612717ccfdb2168896cbd6a740"
   },
   "source": [
    "#### This dataset contains crime data for the city of  Vancouver on a year-by-year basis from 2003 to 2018.\n",
    "#### Data was colected by Vancouver police department and can be found [here ](https://data.vancouver.ca/datacatalogue/crime-data.htm) \n",
    "#### The dataset contains ten columns and 584737 rows\n",
    "\n",
    "### Crime attributes\n",
    "* TYPE: The type of crime activities\n",
    "    * BNE Commercial: (Commercial Break and Enter) Breaking and entering into a commercial property with intent to commit an offence\n",
    "    * BNE Residential/Other: (Residential Break and Enter) Breaking and entering into a dwelling/house/apartment/garage with intent to commit an offence\n",
    "    * Vehicle Collision or Pedestrian Struck (with Fatality): Includes primarily pedestrian or cyclist struck and killed by a vehicle. It also includes vehicle to vehicle fatal accidents, however these incidents are fewer in number when compared to the overall data set.\n",
    "    * Vehicle Collision or Pedestrian Struck (with Injury): Includes all categories of vehicle involved accidents with injuries. This includes pedestrian and cyclist involved incidents with injuries.\n",
    "    * Homicide: A person, directly or indirectly, by any means, causes the death of another person.\n",
    "    * Mischief: A person commits mischief that willfully causes malicious destruction, damage, or defacement of property. This also includes any public mischief towards another person.\n",
    "    * Offence Against a Person: An attack on a person causing harm that may include usage of a weapon.\n",
    "    * Other Theft: Theft of property that includes personal items (purse, wallet, cellphone, laptop, etc.), bicycle, etc.\n",
    "    * Theft from Vehicle: Theft of property from a vehicle\n",
    "    * Theft of Vehicle: Theft of a vehicle, motorcycle, or any motor vehicle\n",
    "    * Theft of Bicycle: Theft of a bicycle\n",
    "\n",
    "* YEAR: A four-digit field that indicates the year when the reported crime activity occurred\n",
    "* MONTH: A numeric field that indicates the month when the reported crime activity occurred\n",
    "* DAY: A two-digit field that indicates the day of the month when the reported crime activity occurred\n",
    "* HOUR: A two-digit field that indicates the hour time (in 24 hours format) when the reported crime activity occurred\n",
    "* MINUTE: A two-digit field that indicates the minute when the reported crime activity occurred\n",
    "* HUNDRED_BLOCK: Generalized location of the report crime activity\n",
    "* NEIGHBOURHOOD: The Vancouver Police Department uses the Statistics Canada definition of neighbourhoods within municipalities. Neighbourhoods within the City of Vancouver are based on the census tract (CT) concept within census metropolitan area (CMA).\n",
    "The Musqueam Indian Band is located in the southwest corner of the City of Vancouver. There is a service agreement between Musqueam and the City of Vancouver, where the City provides municipal services such as policing. As a result, Musqueam crime data is included with the VPD Open Data.\n",
    "* X: Coordinate values are projected in UTM Zone 10. All data must be considered offset and users should not interpret any locations as related to a specific person or specific property.\n",
    "* Y: Coordinate values are projected in UTM Zone 10. All data must be considered offset and users should not interpret any locations as related to a specific person or specific property.\n",
    "\n",
    "### In this analysis, I will be generating general stats and try to answer these questions  :\n",
    "* Number of Crimes reported each year\n",
    "* Which crime types are the most common?\n",
    "* Which day of the week and month of the year result in the most crimes?\n",
    "* When Does Crime Most Often Happen?\n",
    "* What times of day are police most active?\n",
    "* Which neighborhoods had the most crimes and did that change over the years?\n",
    "* Where are the most dangerous intersections in Vancouver for 2018?\n",
    "* What are the most common crimes in Christmas day and where do they happen?\n",
    "\n"
   ]
  },
  {
   "cell_type": "code",
   "execution_count": null,
   "metadata": {
    "_cell_guid": "b1076dfc-b9ad-4769-8c92-a6c4dae69d19",
    "_uuid": "8f2839f25d086af736a60e9eeb907d3b93b6e0e5"
   },
   "outputs": [],
   "source": [
    "# Importing necessary packages\n",
    "import numpy as np \n",
    "import pandas as pd \n",
    "import matplotlib.pyplot as plt\n",
    "%matplotlib inline\n",
    "import matplotlib.style as style\n",
    "style.use('fivethirtyeight')\n",
    "import folium\n",
    "from folium import plugins\n",
    "from pyproj import Proj, transform\n",
    "import seaborn as sns\n"
   ]
  },
  {
   "cell_type": "code",
   "execution_count": null,
   "metadata": {
    "_uuid": "32ab08d0120261222848b98cfcf232e8d9bad123"
   },
   "outputs": [],
   "source": [
    "# Read the dataset\n",
    "crime_df = pd.read_csv('crime.csv')"
   ]
  },
  {
   "cell_type": "code",
   "execution_count": null,
   "metadata": {
    "_uuid": "094eed400cf15292b8dc1162a6c89a4cc5f8bc9c"
   },
   "outputs": [],
   "source": [
    "# Data explorision\n",
    "print(crime_df.info())\n",
    "crime_df.head()"
   ]
  },
  {
   "cell_type": "markdown",
   "metadata": {
    "_uuid": "851c649f8e4d95f2849caeb8cda7c26398ae898f"
   },
   "source": [
    "#### There are some missing data in the 'HOUR' and 'Neighbourhood' columns, per the data dictionary, no time information is provided for offenses against a person crime type, but that shouldn't be a problem for this analysis.\n",
    "**I will create a date column that combines year, month and day in one column and check to see if we have enough data for 2018 to analyze **\n",
    "\n"
   ]
  },
  {
   "cell_type": "code",
   "execution_count": null,
   "metadata": {
    "_uuid": "ea345b6713ee8255549ebd9d2585b3ae5d12307f"
   },
   "outputs": [],
   "source": [
    "# Create new date column\n",
    "crime_df['Date'] = pd.to_datetime(crime_df[['YEAR', 'MONTH', 'DAY']])\n",
    "crime_df['Date'].head()"
   ]
  },
  {
   "cell_type": "code",
   "execution_count": null,
   "metadata": {
    "_uuid": "755d7f7b5cda55fc430f1a3ae28959ddb97a89a9"
   },
   "outputs": [],
   "source": [
    "# Checking what is the last date we have for 2018\n",
    "crime_df['Date'].max()"
   ]
  },
  {
   "cell_type": "markdown",
   "metadata": {
    "_uuid": "4eda90048dfa7940b74a369c804be3e935761bcc"
   },
   "source": [
    "**We have crime data until 2018/12/07, so it is not complete but should be good enough for this analysis.**"
   ]
  },
  {
   "cell_type": "markdown",
   "metadata": {
    "_uuid": "c967af401cd94acceff78d8f1db309c54d7e9b66"
   },
   "source": [
    "### Total Number of Crimes reported each year\n",
    "Let's check the Total number of crimes from 2013 to 2018."
   ]
  },
  {
   "cell_type": "code",
   "execution_count": null,
   "metadata": {
    "_uuid": "73b4269b851243d0ef092310b1a4599a20c9cfcf"
   },
   "outputs": [],
   "source": [
    "# Creating the figure and plotting the data\n",
    "plt.figure(figsize=(15,7))\n",
    "graph = sns.countplot(x='YEAR', data=crime_df)\n",
    "plt.title('Total Number of Crimes per Year')\n",
    "graph.xaxis.label.set_visible(False)\n",
    "graph.yaxis.label.set_visible(False)\n",
    "\n",
    "# setting individual bar lables using above list\n",
    "for i in graph.patches:\n",
    "    # get_x pulls left or right; get_height pushes up or down\n",
    "    graph.text(i.get_x()+.07, i.get_height()-2000, str(i.get_height()), fontsize=12, color='white')    \n",
    "\n",
    "plt.show()"
   ]
  },
  {
   "cell_type": "markdown",
   "metadata": {
    "_uuid": "386991d5f0ad6db156910aef20cfcae6915a0b5a"
   },
   "source": [
    "** It seems that most crimes happened in 2003, the total number decreased every year until 2011 which has the lowest total number of crimes. The total number of crimes increased after that and peaked at 2016, and seems to be dropping again. I have to mention that data for 2018 is not complete, so the total for 2018 could increase.**"
   ]
  },
  {
   "cell_type": "markdown",
   "metadata": {
    "_uuid": "441226d1339de6b866be96c974024f6cc54d558f"
   },
   "source": [
    "## Most common crimes from 2003 to 2018\n"
   ]
  },
  {
   "cell_type": "code",
   "execution_count": null,
   "metadata": {
    "_uuid": "bdc1d00f0657874660e106471177aba56e0b3aec"
   },
   "outputs": [],
   "source": [
    "# Creating a graph to plot the data\n",
    "graph = crime_df['TYPE'].value_counts().plot.barh(figsize=(15,7), title = 'Total Number of Crimes per Type from 2003 to 2018 ' )\n",
    "# setting individual bar lables using above list\n",
    "for i in graph.patches:\n",
    "    # get_x pulls left or right; get_height pushes up or down\n",
    "    graph.text(i.get_width()+.3, i.get_y()+.17, str(i.get_width()), fontsize=12, color='black')    \n",
    "\n",
    "plt.show()"
   ]
  },
  {
   "cell_type": "markdown",
   "metadata": {
    "_uuid": "db994553f580f02415bf8bb83fe29bb6281e55a3"
   },
   "source": [
    "** We can see that the most common crime type by far is \"Theft from Vehicle\", and the least common types are \"Homicide\" , \"Vehicle Collision and Pedestrian Struck (with Fatality)\"**"
   ]
  },
  {
   "cell_type": "markdown",
   "metadata": {
    "_uuid": "2c0bc43880b5a5e4283cf368cc3e9627eacabcf9"
   },
   "source": [
    "### 5 Neighborhoods with most crimes"
   ]
  },
  {
   "cell_type": "code",
   "execution_count": null,
   "metadata": {
    "_uuid": "e6d73d81f0e1b3ed4412d17d708a42131d8a73dc"
   },
   "outputs": [],
   "source": [
    "# Creating a temp df for locations\n",
    "crime_loc = crime_df.groupby('NEIGHBOURHOOD')['TYPE'].count().sort_values(ascending = False)\n",
    "crime_top_5 = crime_loc[:5]\n",
    "graph = crime_top_5.plot.barh(figsize=(7,5), title = '5 Neighborhoods with the Most Crimes from 2013 to 2018')\n",
    "graph.xaxis.label.set_visible(False)\n",
    "graph.yaxis.label.set_visible(False)\n",
    "plt.grid(False)\n",
    "plt.show()"
   ]
  },
  {
   "cell_type": "markdown",
   "metadata": {
    "_uuid": "994338af210bb8b550f80a90551d780a584cd138"
   },
   "source": [
    "**We can see that Central Business Distict is in the top of the list **"
   ]
  },
  {
   "cell_type": "markdown",
   "metadata": {
    "_uuid": "65bd6ff60ecfe42235a3f3bf214c28eaff42c7c4"
   },
   "source": [
    "### Monthly trend for each crime type\n",
    "Next, I will try to find out if there is a monthly trend for the different type of crimes."
   ]
  },
  {
   "cell_type": "code",
   "execution_count": null,
   "metadata": {
    "_uuid": "bda48f3f36d59868f1e6d10b0ca569276aeaabc1"
   },
   "outputs": [],
   "source": [
    "# Group the dataframe by month and type of crime\n",
    "crimes_trend = crime_df.groupby([\"MONTH\",\"TYPE\"])['TYPE'].count().unstack()\n",
    "graph = crimes_trend.plot(figsize=(15,7), title = 'Total Number of Crimes for Each Month of the Year', rot = 0, marker='o')\n",
    "plt.xticks(np.arange(1,13))\n",
    "\n",
    "# Put a legend to the right of the current axis\n",
    "plt.legend(loc='center left', bbox_to_anchor=(1, 0.5))\n",
    "plt.show()"
   ]
  },
  {
   "cell_type": "markdown",
   "metadata": {
    "_uuid": "0a73a4814faa10b131961333eaa1b11421682e0d"
   },
   "source": [
    "**I don't see any trend except for the theft of bicycle, it seems they happen more in the summer which makes sense as a lot of people would use their bikes more in the summer, and for theft from vehicle which seems to decrease in February and December, but I can't tell why.**"
   ]
  },
  {
   "cell_type": "markdown",
   "metadata": {
    "_uuid": "92c24dc986d655a346124724d982ba24a2166dc6"
   },
   "source": [
    "### Let's check top Top 5 Neighbourhood Where most crimes happened for each year to see if there is a change\n",
    "**I will start crimes with  from 2003 to 2011**"
   ]
  },
  {
   "cell_type": "code",
   "execution_count": null,
   "metadata": {
    "_uuid": "62fd38177cc50fd22b80e74eafd8aed7ab5aa861"
   },
   "outputs": [],
   "source": [
    "# Create a function to plot the data that takes the year and number of subplot\n",
    "def plot_data(year,subplot_no):\n",
    "    plt.subplot(3,3,subplot_no)\n",
    "    top_neigh = crime_df[crime_df['YEAR'] == year]['NEIGHBOURHOOD'].value_counts().sort_values(ascending=False)[:5]\n",
    "    top_neigh.plot.barh(title = f'{year}')\n",
    "    \n",
    "# Create a list of years \n",
    "years = crime_df[\"YEAR\"].unique()\n",
    "    \n",
    "# plot with various axes scales\n",
    "plt.figure(1)\n",
    "plt.figure(figsize=(20,10))\n",
    "plt.subplots_adjust(left  = 0.125, right = 0.9,bottom = 0.1, top = 0.9, wspace = 0.7, hspace = 0.5 )\n",
    "\n",
    "# Loop through years from 2003 till 2011 and plot the data\n",
    "subplot_no = 1\n",
    "for year in years[:9]:\n",
    "    plot_data(year,subplot_no)\n",
    "    subplot_no += 1\n",
    "    \n",
    "# general title\n",
    "plt.suptitle(\"Top 5 Neighbourhoods Where most crimes happened from 2003 to 2011\", fontsize=13, fontweight=0, color='black', style='italic', y=1.02)\n",
    "plt.show()\n"
   ]
  },
  {
   "cell_type": "markdown",
   "metadata": {
    "_uuid": "4fe99b1977fa86f6791edb1be1ad21e1622a8bfa"
   },
   "source": [
    "**Now, data from 2012 to 2018**"
   ]
  },
  {
   "cell_type": "code",
   "execution_count": null,
   "metadata": {
    "_uuid": "48d39cff027748e70c9921d98f8687c0ae66b6d6"
   },
   "outputs": [],
   "source": [
    "# plot with various axes scales\n",
    "plt.figure(1)\n",
    "plt.figure(figsize=(20,10))\n",
    "plt.subplots_adjust(left  = 0.125, right = 0.9,bottom = 0.1, top = 0.9, wspace = 0.7, hspace = 0.5 )\n",
    "\n",
    "# Loop through years from 2012 till 2018 and plot the data\n",
    "subplot_no = 1\n",
    "for year in years[9:16]:\n",
    "    plot_data(year,subplot_no)\n",
    "    subplot_no += 1\n",
    "    \n",
    "# general title\n",
    "plt.suptitle(\"Top 5 Neighbourhoods Where most crimes happened from 2012 to 2018\", fontsize=13, fontweight=0, color='black', style='italic', y=1.02)\n",
    "plt.show()"
   ]
  },
  {
   "cell_type": "markdown",
   "metadata": {
    "_uuid": "c515bff578d1f523f606db570bcccd6b0c01e04e"
   },
   "source": [
    "**Central Business District is where most crimes happened since 2003 with a total number far bigger than other areas.\n",
    "West End is second, and that didn't change since 2003\n",
    "Fairview was third from 2003 to 2010, then in 2011 it was fifth, and Mount Pleasant took its place. In 2017 and 2018, Fairview is not in the top 5 anymore. This is interesting as someone could investigate further and find out why is Fairview is a safer neighborhood now.**"
   ]
  },
  {
   "cell_type": "markdown",
   "metadata": {
    "_uuid": "6686d1bcc0ba7106afc0bf426bbea57643881e4b"
   },
   "source": [
    "### Which day of the week and which month of the year result in most crimes? \n"
   ]
  },
  {
   "cell_type": "code",
   "execution_count": null,
   "metadata": {
    "_uuid": "b5b92579d70fb8f255014576ee9a33b3b0aedd2f"
   },
   "outputs": [],
   "source": [
    "# Plotting a bar chart for which day of the week result in most crimes\n",
    "graph = crime_df['Date'].dt.weekday.value_counts().sort_index().plot.bar(figsize=(10,5), title = 'Total Number of Crimes for Each Day of the Week', rot = 0 )\n",
    "plt.grid(False)\n",
    "\n",
    "# setting individual bar lables using above list\n",
    "for i in graph.patches:\n",
    "    # get_x pulls left or right; get_height pushes up or down\n",
    "    graph.text(i.get_x()+.02, i.get_height()-4000, str(i.get_height()), fontsize=12, color='white')    \n",
    "\n",
    "plt.show()"
   ]
  },
  {
   "cell_type": "markdown",
   "metadata": {
    "_uuid": "5512592700b7d0ea01dfa085f37b607520b56be6"
   },
   "source": [
    "**In this plot, Monday is 0, and Sunday is 6. It looks like most crimes happened on Saturdays, but there isn't a big difference. **\n",
    "**Let's check which month of the year most crimes happened **"
   ]
  },
  {
   "cell_type": "code",
   "execution_count": null,
   "metadata": {
    "_uuid": "78387fa27ad1b69f101e26c9fda1e4c351451b2a"
   },
   "outputs": [],
   "source": [
    "# Changing the style\n",
    "sns.set()\n",
    "\n",
    "# Creating the graph\n",
    "graph = crime_df['MONTH'].value_counts().sort_index().plot.bar(figsize=(15,7), title = 'Total Number of Crimes for Each Month of the Year', rot = 0 )\n",
    "\n",
    "# setting individual bar lables using above list\n",
    "for i in graph.patches:\n",
    "    # get_x pulls left or right; get_height pushes up or down\n",
    "    graph.text(i.get_x()+.04, i.get_height()-4000, str(i.get_height()), fontsize=10, color='white')    \n",
    "\n",
    "plt.show()"
   ]
  },
  {
   "cell_type": "markdown",
   "metadata": {
    "_uuid": "01447c6eae84735ae5fae426963bcc46ceacc35d"
   },
   "source": [
    "**It looks like most crimes happened in August and the least happened in February, but there isn't a big difference also. **\n",
    "**Let's check and find out When did most of these crimes happened?**"
   ]
  },
  {
   "cell_type": "code",
   "execution_count": null,
   "metadata": {
    "_uuid": "9a464c8914b787bf1474ba5c065ff6971613acb9"
   },
   "outputs": [],
   "source": [
    "# Plotting time of the day in which most crimes happened\n",
    "graph = crime_df['HOUR'].value_counts().sort_index().plot.bar(figsize=(15,7), title = 'Time of the day Most Crimes Happened', rot = 0 )\n",
    "plt.show()"
   ]
  },
  {
   "cell_type": "markdown",
   "metadata": {
    "_uuid": "3383fafe3a12787effc048f3bbec7f5110317818"
   },
   "source": [
    "**Interesting, it seems that most crimes happened at 6 PM and the least happened at 5 AM. I thought crimes would mostly occur after midnight.**"
   ]
  },
  {
   "cell_type": "code",
   "execution_count": null,
   "metadata": {
    "_uuid": "8b8e1d537f571b8bfb588f9fc1f173a604c0d893"
   },
   "outputs": [],
   "source": [
    "# Comparing crimes per month for all years\n",
    "#c = crime_df.groupby(['MONTH', 'YEAR'])['TYPE'].count()\n",
    "#graph = c.unstack().plot.bar(figsize=(40,10))"
   ]
  },
  {
   "cell_type": "markdown",
   "metadata": {
    "_uuid": "f42ae66ca0dc62be4a72adda2ae0124c8d5279b9"
   },
   "source": [
    "### Let's now map out crimes. I will have to convert the coordinates in the dataframe from UTM EPSG:26910 NAD83  to longitude, latitude EPSG:4326 WGS 84 for plotting.\n",
    "**Because mapping is very intensive in terms of CPU resources and memory, I we'll need to filter down the data.**"
   ]
  },
  {
   "cell_type": "code",
   "execution_count": null,
   "metadata": {
    "_uuid": "58e8bd24ec26602f88332943cbbdc60cedfb6253"
   },
   "outputs": [],
   "source": [
    "# Converting cordinates \n",
    "inProj = Proj(init='epsg:26910')\n",
    "outProj = Proj(init='epsg:4326')\n",
    "x1,y1 = crime_df['X'].tolist(),crime_df['Y'].tolist()\n",
    "crime_df['latitude'], crime_df['longitude'] = transform(inProj,outProj,x1,y1)\n",
    "crime_df.head()"
   ]
  },
  {
   "cell_type": "markdown",
   "metadata": {
    "_uuid": "27403bc6fa6dae42035e89d85cd79c8acafd2008"
   },
   "source": [
    "** Create a map for the first 1000 rows in our dataframe**"
   ]
  },
  {
   "cell_type": "code",
   "execution_count": null,
   "metadata": {
    "_uuid": "03c094f71b5815086c290c4ed73c8e278b1c6787"
   },
   "outputs": [],
   "source": [
    "# Create a map for the center of Vancouver\n",
    "crime_map = folium.Map(location=[49.246292, -123.1162261], zoom_start=12)\n",
    "marker_cluster = folium.plugins.MarkerCluster().add_to(crime_map)\n",
    "for name, row in crime_df.iloc[:1000].iterrows():\n",
    "    folium.Marker([row[\"longitude\"], row[\"latitude\"]], popup=row[\"TYPE\"]).add_to(marker_cluster)\n",
    "#crime_map.create_map('stops.html')\n",
    "crime_map"
   ]
  },
  {
   "cell_type": "markdown",
   "metadata": {
    "_uuid": "fee0844d3cf1d7f1d1b10bcdafcd1d98a6311971"
   },
   "source": [
    " **Extend our analysis further with a heatmap**"
   ]
  },
  {
   "cell_type": "code",
   "execution_count": null,
   "metadata": {
    "_uuid": "9fcd7f9f8008a5ea2c5a599b50c9deafbce63c58"
   },
   "outputs": [],
   "source": [
    "crime_heatmap = folium.Map(location=[49.246292, -123.1162261], zoom_start=13)\n",
    "crime_heatmap.add_child(plugins.HeatMap([[row[\"longitude\"], row[\"latitude\"]] for name, row in crime_df.iloc[:1000].iterrows()]))\n",
    "#stops_heatmap.save(\"heatmap.html\")\n",
    "crime_heatmap"
   ]
  },
  {
   "cell_type": "markdown",
   "metadata": {
    "_uuid": "9f0401a12ee3969ca68ae8999917e570a4c4a1b1"
   },
   "source": [
    "### Let's check where did the Vehicle Collision or Pedestrian Struck (with Fatality) happen crime type happened "
   ]
  },
  {
   "cell_type": "code",
   "execution_count": null,
   "metadata": {
    "_uuid": "7bffc6c990420cb8a5d003b84eff74fe40f1de6e"
   },
   "outputs": [],
   "source": [
    "# Create a dataframe for vehichle collisions or Pedestrian Struck (with Fatality)\n",
    "coll_df = crime_df[crime_df['TYPE'] == 'Vehicle Collision or Pedestrian Struck (with Fatality)']\n",
    "coll_df.head()"
   ]
  },
  {
   "cell_type": "code",
   "execution_count": null,
   "metadata": {
    "_kg_hide-output": false,
    "_uuid": "fb89619d64b3126df8ef77d14bcdcf52e5581ec7"
   },
   "outputs": [],
   "source": [
    "# Plotting the map with diffrent tile\n",
    "coll_map = folium.Map(location=[49.246292, -123.1162261], zoom_start=12, tiles='cartodbpositron')\n",
    "marker_cluster = folium.plugins.MarkerCluster().add_to(coll_map)\n",
    "for name, row in coll_df.iterrows():\n",
    "    folium.Marker([row[\"longitude\"], row[\"latitude\"]], popup=row[\"TYPE\"]).add_to(marker_cluster)\n",
    "#crime_map.create_map('stops.html')\n",
    "coll_map"
   ]
  },
  {
   "cell_type": "markdown",
   "metadata": {
    "_uuid": "a025f000c6926067d5e38db07e82b6107307e568"
   },
   "source": [
    "**Heat map**"
   ]
  },
  {
   "cell_type": "code",
   "execution_count": null,
   "metadata": {
    "_uuid": "685398e2d5497b065d704e7e53ec7f49c74fe07a"
   },
   "outputs": [],
   "source": [
    "coll_heatmap = folium.Map(location=[49.246292, -123.1162261], zoom_start=13, tiles='cartodbpositron')\n",
    "coll_heatmap.add_child(plugins.HeatMap([[row[\"longitude\"], row[\"latitude\"]] for name, row in coll_df.iterrows()]))\n",
    "#stops_heatmap.save(\"heatmap.html\")\n",
    "coll_heatmap"
   ]
  },
  {
   "cell_type": "markdown",
   "metadata": {
    "_uuid": "9523b30d1c02b24250ac8d258167b087c8419860"
   },
   "source": [
    "**it seems that most fatal collisions happened in downtown which makes sense because it is the busiest part of town with lots of pedestrians**"
   ]
  },
  {
   "cell_type": "code",
   "execution_count": null,
   "metadata": {
    "_uuid": "ffb6282dfb5da7e56dee340aee59b98550f82121"
   },
   "outputs": [],
   "source": [
    "### Le's see where most thefts from vehicles happened in January 2018"
   ]
  },
  {
   "cell_type": "code",
   "execution_count": null,
   "metadata": {
    "_uuid": "fad12c8df20a2dda8f6b9558c6c8c89e6e315b49"
   },
   "outputs": [],
   "source": [
    "# Create a dataframe for theft from vehichlein in January 2018\n",
    "theft_df = crime_df[(crime_df['YEAR'] == 2018) & (crime_df['TYPE'] == 'Theft from Vehicle') & (crime_df['MONTH'] == 1)]"
   ]
  },
  {
   "cell_type": "code",
   "execution_count": null,
   "metadata": {
    "_uuid": "8c3972b97a336fcb298aaa6f4b0f0f6460556bd6"
   },
   "outputs": [],
   "source": [
    "theft_map = folium.Map(location=[49.246292, -123.1162261], zoom_start=12, tiles = 'cartodbpositron')\n",
    "marker_cluster = folium.plugins.MarkerCluster().add_to(theft_map)\n",
    "for name, row in theft_df.iterrows():\n",
    "    folium.Marker([row[\"longitude\"], row[\"latitude\"]], popup=row[\"TYPE\"]).add_to(marker_cluster)\n",
    "#crime_map.create_map('stops.html')\n",
    "theft_map"
   ]
  },
  {
   "cell_type": "markdown",
   "metadata": {
    "_uuid": "f038333acf792a918bf450ca0e2a030a30269b0a"
   },
   "source": [
    "**It seems that most theft crimes happened in downtown too, so we should pay attention to that whenever we park there :)**"
   ]
  },
  {
   "cell_type": "markdown",
   "metadata": {
    "_uuid": "e95c8ff15d2c47e0d3b4af41c67e38fa28b132fd"
   },
   "source": [
    "## since Christmas is in 5 days, let's check what are the most common crimes that happen during Christmas day and where."
   ]
  },
  {
   "cell_type": "code",
   "execution_count": null,
   "metadata": {
    "_uuid": "1ee5d90ee096c06f35901d423ad9cc550abd2748"
   },
   "outputs": [],
   "source": [
    "# Creating dataframe for Christmas day\n",
    "chris_df = crime_df[(crime_df['MONTH'] == 12) & (crime_df['DAY'] == 25)]\n"
   ]
  },
  {
   "cell_type": "code",
   "execution_count": null,
   "metadata": {
    "_uuid": "d1f4df3336785cfe52ada1aedea7303608e660a9"
   },
   "outputs": [],
   "source": [
    "# Plotting top crimes in Christmas with the total number\n",
    "graph = chris_df['TYPE'].value_counts().plot.barh(figsize=(15,7), title = 'Total Number of Crime Type from 2003 to 2018 ' )\n",
    "\n",
    "# setting individual bar lables using above list\n",
    "for i in graph.patches:\n",
    "    # get_x pulls left or right; get_height pushes up or down\n",
    "    graph.text(i.get_width()+.3, i.get_y()+.17, str(i.get_width()), fontsize=12, color='black')    \n",
    "\n",
    "plt.show()"
   ]
  },
  {
   "cell_type": "markdown",
   "metadata": {
    "_uuid": "197c43b01ddf7e05b4d7157d528cc039982f2d90"
   },
   "source": [
    "**It seems that theft from a vehicle is the most crime type in Christmas too.**\n",
    "**Let plot the data on a map and see where is that**"
   ]
  },
  {
   "cell_type": "code",
   "execution_count": null,
   "metadata": {
    "_uuid": "2405fc7e75c786ed0cca9eea3b939ad885a5bbf5"
   },
   "outputs": [],
   "source": [
    "# Creating a map and changing style\n",
    "chris_map = folium.Map(location=[49.246292, -123.1162261], zoom_start=12, tiles=\"CartoDB dark_matter\")\n",
    "marker_cluster = folium.plugins.MarkerCluster().add_to(chris_map)\n",
    "for name, row in chris_df.iterrows():\n",
    "    folium.Marker([row[\"longitude\"], row[\"latitude\"]], popup=row[\"TYPE\"]).add_to(marker_cluster)\n",
    "#crime_map.create_map('stops.html')\n",
    "chris_map"
   ]
  },
  {
   "cell_type": "code",
   "execution_count": null,
   "metadata": {
    "_uuid": "2c91c907cbe495e40d5c6bb03b0ac0f068736c06"
   },
   "outputs": [],
   "source": [
    "chris_heatmap = folium.Map(location=[49.246292, -123.1162261], zoom_start=13, tiles=\"CartoDB dark_matter\")\n",
    "chris_heatmap.add_child(plugins.HeatMap([[row[\"longitude\"], row[\"latitude\"]] for name, row in chris_df.iterrows()]))\n",
    "#stops_heatmap.save(\"heatmap.html\")\n",
    "chris_heatmap\n",
    "\n"
   ]
  },
  {
   "cell_type": "markdown",
   "metadata": {
    "_uuid": "884f83227af7941cf36b348a9152f9f2025697e3"
   },
   "source": [
    "**It seems that most crimes happens in downtown with some in the southern part of the city.**"
   ]
  },
  {
   "cell_type": "code",
   "execution_count": null,
   "metadata": {
    "_uuid": "5e02dcc792a76304fd892825964c601d7140a09b"
   },
   "outputs": [],
   "source": []
  }
 ],
 "metadata": {
  "kernelspec": {
   "display_name": "Python 3",
   "language": "python",
   "name": "python3"
  },
  "language_info": {
   "codemirror_mode": {
    "name": "ipython",
    "version": 3
   },
   "file_extension": ".py",
   "mimetype": "text/x-python",
   "name": "python",
   "nbconvert_exporter": "python",
   "pygments_lexer": "ipython3",
   "version": "3.6.5"
  }
 },
 "nbformat": 4,
 "nbformat_minor": 1
}
